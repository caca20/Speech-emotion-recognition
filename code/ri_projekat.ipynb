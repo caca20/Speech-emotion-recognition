{
 "cells": [
  {
   "cell_type": "code",
   "execution_count": 7,
   "id": "5637c811",
   "metadata": {},
   "outputs": [
    {
     "name": "stderr",
     "output_type": "stream",
     "text": [
      "2022-09-05 01:39:12.855020: W tensorflow/stream_executor/platform/default/dso_loader.cc:64] Could not load dynamic library 'libcudart.so.11.0'; dlerror: libcudart.so.11.0: cannot open shared object file: No such file or directory; LD_LIBRARY_PATH: /home/jelena/sqllib/lib64:/home/jelena/sqllib/lib64/gskit:/home/jelena/sqllib/lib32\n",
      "2022-09-05 01:39:12.855058: I tensorflow/stream_executor/cuda/cudart_stub.cc:29] Ignore above cudart dlerror if you do not have a GPU set up on your machine.\n"
     ]
    }
   ],
   "source": [
    "import os, sys\n",
    "import numpy as np\n",
    "import pandas as pd\n",
    "import tensorflow as tf\n",
    "import librosa\n",
    "import librosa.display\n",
    "import itertools\n",
    "import soundfile as sf\n",
    "from sklearn import preprocessing\n",
    "from keras.utils import np_utils\n",
    "from sklearn.model_selection import train_test_split\n",
    "from sklearn.neural_network import MLPClassifier\n",
    "from sklearn.metrics import accuracy_score\n",
    "from keras.layers import Dense, Flatten, Dropout\n",
    "from sklearn.preprocessing import StandardScaler\n",
    "from tensorflow.keras.utils import to_categorical\n",
    "from tensorflow.keras.models import Sequential\n",
    "from tensorflow.keras.layers import Dense\n",
    "from matplotlib import pyplot as plt\n"
   ]
  },
  {
   "cell_type": "code",
   "execution_count": 8,
   "id": "f1117bd1",
   "metadata": {},
   "outputs": [],
   "source": [
    "def load_ravdess_data():\n",
    "    path = '../data/Ravdess/audio_speech_actors_01-24/'\n",
    "    ravdess_directory_list = os.listdir(path)\n",
    "\n",
    "    emotions = []\n",
    "    paths = []\n",
    "    for dir in ravdess_directory_list:\n",
    "        \n",
    "        actor = os.listdir(path + dir)\n",
    "        for file in actor:\n",
    "            part = file.split('.')[0]\n",
    "            part = part.split('-')\n",
    "            emotions.append(int(part[2]))\n",
    "            paths.append(path + dir + '/' + file)\n",
    "\n",
    "    emotion_df = pd.DataFrame(emotions, columns=['Emotion'])\n",
    "    path_df = pd.DataFrame(paths, columns=['Path'])\n",
    "    \n",
    "    Ravdess_df = pd.concat([path_df,emotion_df], axis=1)\n",
    "\n",
    "    Ravdess_df.Emotion.replace({1:'neutral', 2:'neutral', 3:'happy', 4:'sad', 5:'angry', 6:'fear', 7:'disgust', 8:'surprise'}, inplace=True)\n",
    "    \n",
    "    return Ravdess_df"
   ]
  },
  {
   "cell_type": "code",
   "execution_count": 9,
   "id": "e5d03597",
   "metadata": {},
   "outputs": [],
   "source": [
    "def load_tess_data():\n",
    "    \n",
    "    emotions = []\n",
    "    paths = []\n",
    "    path = \"../data/Tess/\"\n",
    "    tess_directory_list = os.listdir(path)\n",
    "    \n",
    "    for file in tess_directory_list:\n",
    "        part = file.split('.')[0]\n",
    "        part = part.split('_')[2]\n",
    "        if part=='ps':\n",
    "            emotions.append('surprise')\n",
    "        else:\n",
    "            emotions.append(part)\n",
    "        paths.append(path + file)\n",
    "\n",
    "    emotion_df = pd.DataFrame(emotions, columns=['Emotion'])\n",
    "    path_df = pd.DataFrame(paths, columns=['Path'])\n",
    "    \n",
    "    Tess_df = pd.concat([path_df, emotion_df], axis=1)\n",
    "    \n",
    "    return Tess_df"
   ]
  },
  {
   "cell_type": "code",
   "execution_count": 10,
   "id": "16e13916",
   "metadata": {},
   "outputs": [],
   "source": [
    "def load_savee_data():\n",
    "    \n",
    "    emotions = []\n",
    "    paths = []\n",
    "    path = \"../data/Savee/\"\n",
    "    savee_directory_list = os.listdir(path)\n",
    "    \n",
    "    for file in savee_directory_list:\n",
    "        paths.append(path + file)\n",
    "        part = file.split('_')[1]\n",
    "        emo = part[:-6]\n",
    "        if emo=='a':\n",
    "            emotions.append('angry')\n",
    "        elif emo=='h':\n",
    "            emotions.append('happy')\n",
    "        elif emo=='sa':\n",
    "            emotions.append('sad')\n",
    "        elif emo=='d':\n",
    "            emotions.append('disgust')\n",
    "        elif emo=='n':\n",
    "            emotions.append('neutral')\n",
    "        elif emo=='f':\n",
    "            emotions.append('fear')\n",
    "        else:\n",
    "            emotions.append('surprise')\n",
    "            \n",
    "    emotion_df = pd.DataFrame(emotions, columns=['Emotion'])\n",
    "    path_df = pd.DataFrame(paths, columns=['Path'])\n",
    "    \n",
    "    Savee_df = pd.concat([path_df, emotion_df], axis=1)\n",
    "\n",
    "    return Savee_df"
   ]
  },
  {
   "cell_type": "code",
   "execution_count": 11,
   "id": "b7ddcba2",
   "metadata": {},
   "outputs": [],
   "source": [
    "def load_data():\n",
    "    ravdess = load_ravdess_data()\n",
    "    savee = load_savee_data()\n",
    "    tess = load_tess_data()\n",
    "    data = pd.concat([savee, tess, ravdess],axis=0)\n",
    "    return data"
   ]
  },
  {
   "cell_type": "code",
   "execution_count": 15,
   "id": "a4da9a63",
   "metadata": {},
   "outputs": [],
   "source": [
    "data = load_data()"
   ]
  },
  {
   "cell_type": "code",
   "execution_count": 143,
   "id": "9a86a544",
   "metadata": {},
   "outputs": [],
   "source": [
    "def extract_mfcc(filename):\n",
    "    with sf.SoundFile(filename) as f:\n",
    "        data = f.read(dtype=\"float32\")\n",
    "        result=np.array([])\n",
    "        sample_rate=f.samplerate\n",
    "        \n",
    "        mfccs=np.mean(librosa.feature.mfcc(y=data, sr=sample_rate, n_mfcc=40).T, axis=0)\n",
    "        result=np.hstack((result, mfccs))\n",
    "        \n",
    "        return result"
   ]
  },
  {
   "cell_type": "code",
   "execution_count": 144,
   "id": "f019d53e",
   "metadata": {},
   "outputs": [],
   "source": [
    "def get_coef():\n",
    "    X = []\n",
    "    Y = []\n",
    "    for index, row in data.iterrows():\n",
    "        result = extract_mfcc(row[0])\n",
    "        X.append(result)\n",
    "        Y.append(row[1])\n",
    "    return X,Y"
   ]
  },
  {
   "cell_type": "code",
   "execution_count": 145,
   "id": "4eb6ea6f",
   "metadata": {},
   "outputs": [],
   "source": [
    "X,Y = get_coef()"
   ]
  },
  {
   "cell_type": "code",
   "execution_count": 146,
   "id": "d110b3ca",
   "metadata": {},
   "outputs": [],
   "source": [
    "x_train, x_test, y_train, y_test = train_test_split(np.array(X), Y, test_size=0.3, random_state=9,shuffle=True)"
   ]
  },
  {
   "cell_type": "code",
   "execution_count": 147,
   "id": "e7c90778",
   "metadata": {},
   "outputs": [],
   "source": [
    "ss = StandardScaler()\n",
    "x_train = ss.fit_transform(x_train)\n",
    "x_test = ss.transform(x_test)"
   ]
  },
  {
   "cell_type": "code",
   "execution_count": 148,
   "id": "a8b9cd0d",
   "metadata": {},
   "outputs": [],
   "source": [
    "model1 = MLPClassifier(alpha=0.01, batch_size=256, epsilon=1e-08, hidden_layer_sizes=(300,), learning_rate='adaptive', max_iter=1000)"
   ]
  },
  {
   "cell_type": "code",
   "execution_count": 149,
   "id": "190604bd",
   "metadata": {},
   "outputs": [
    {
     "data": {
      "text/html": [
       "<style>#sk-container-id-5 {color: black;background-color: white;}#sk-container-id-5 pre{padding: 0;}#sk-container-id-5 div.sk-toggleable {background-color: white;}#sk-container-id-5 label.sk-toggleable__label {cursor: pointer;display: block;width: 100%;margin-bottom: 0;padding: 0.3em;box-sizing: border-box;text-align: center;}#sk-container-id-5 label.sk-toggleable__label-arrow:before {content: \"▸\";float: left;margin-right: 0.25em;color: #696969;}#sk-container-id-5 label.sk-toggleable__label-arrow:hover:before {color: black;}#sk-container-id-5 div.sk-estimator:hover label.sk-toggleable__label-arrow:before {color: black;}#sk-container-id-5 div.sk-toggleable__content {max-height: 0;max-width: 0;overflow: hidden;text-align: left;background-color: #f0f8ff;}#sk-container-id-5 div.sk-toggleable__content pre {margin: 0.2em;color: black;border-radius: 0.25em;background-color: #f0f8ff;}#sk-container-id-5 input.sk-toggleable__control:checked~div.sk-toggleable__content {max-height: 200px;max-width: 100%;overflow: auto;}#sk-container-id-5 input.sk-toggleable__control:checked~label.sk-toggleable__label-arrow:before {content: \"▾\";}#sk-container-id-5 div.sk-estimator input.sk-toggleable__control:checked~label.sk-toggleable__label {background-color: #d4ebff;}#sk-container-id-5 div.sk-label input.sk-toggleable__control:checked~label.sk-toggleable__label {background-color: #d4ebff;}#sk-container-id-5 input.sk-hidden--visually {border: 0;clip: rect(1px 1px 1px 1px);clip: rect(1px, 1px, 1px, 1px);height: 1px;margin: -1px;overflow: hidden;padding: 0;position: absolute;width: 1px;}#sk-container-id-5 div.sk-estimator {font-family: monospace;background-color: #f0f8ff;border: 1px dotted black;border-radius: 0.25em;box-sizing: border-box;margin-bottom: 0.5em;}#sk-container-id-5 div.sk-estimator:hover {background-color: #d4ebff;}#sk-container-id-5 div.sk-parallel-item::after {content: \"\";width: 100%;border-bottom: 1px solid gray;flex-grow: 1;}#sk-container-id-5 div.sk-label:hover label.sk-toggleable__label {background-color: #d4ebff;}#sk-container-id-5 div.sk-serial::before {content: \"\";position: absolute;border-left: 1px solid gray;box-sizing: border-box;top: 0;bottom: 0;left: 50%;z-index: 0;}#sk-container-id-5 div.sk-serial {display: flex;flex-direction: column;align-items: center;background-color: white;padding-right: 0.2em;padding-left: 0.2em;position: relative;}#sk-container-id-5 div.sk-item {position: relative;z-index: 1;}#sk-container-id-5 div.sk-parallel {display: flex;align-items: stretch;justify-content: center;background-color: white;position: relative;}#sk-container-id-5 div.sk-item::before, #sk-container-id-5 div.sk-parallel-item::before {content: \"\";position: absolute;border-left: 1px solid gray;box-sizing: border-box;top: 0;bottom: 0;left: 50%;z-index: -1;}#sk-container-id-5 div.sk-parallel-item {display: flex;flex-direction: column;z-index: 1;position: relative;background-color: white;}#sk-container-id-5 div.sk-parallel-item:first-child::after {align-self: flex-end;width: 50%;}#sk-container-id-5 div.sk-parallel-item:last-child::after {align-self: flex-start;width: 50%;}#sk-container-id-5 div.sk-parallel-item:only-child::after {width: 0;}#sk-container-id-5 div.sk-dashed-wrapped {border: 1px dashed gray;margin: 0 0.4em 0.5em 0.4em;box-sizing: border-box;padding-bottom: 0.4em;background-color: white;}#sk-container-id-5 div.sk-label label {font-family: monospace;font-weight: bold;display: inline-block;line-height: 1.2em;}#sk-container-id-5 div.sk-label-container {text-align: center;}#sk-container-id-5 div.sk-container {/* jupyter's `normalize.less` sets `[hidden] { display: none; }` but bootstrap.min.css set `[hidden] { display: none !important; }` so we also need the `!important` here to be able to override the default hidden behavior on the sphinx rendered scikit-learn.org. See: https://github.com/scikit-learn/scikit-learn/issues/21755 */display: inline-block !important;position: relative;}#sk-container-id-5 div.sk-text-repr-fallback {display: none;}</style><div id=\"sk-container-id-5\" class=\"sk-top-container\"><div class=\"sk-text-repr-fallback\"><pre>MLPClassifier(alpha=0.01, batch_size=256, hidden_layer_sizes=(300,),\n",
       "              learning_rate=&#x27;adaptive&#x27;, max_iter=1000)</pre><b>In a Jupyter environment, please rerun this cell to show the HTML representation or trust the notebook. <br />On GitHub, the HTML representation is unable to render, please try loading this page with nbviewer.org.</b></div><div class=\"sk-container\" hidden><div class=\"sk-item\"><div class=\"sk-estimator sk-toggleable\"><input class=\"sk-toggleable__control sk-hidden--visually\" id=\"sk-estimator-id-5\" type=\"checkbox\" checked><label for=\"sk-estimator-id-5\" class=\"sk-toggleable__label sk-toggleable__label-arrow\">MLPClassifier</label><div class=\"sk-toggleable__content\"><pre>MLPClassifier(alpha=0.01, batch_size=256, hidden_layer_sizes=(300,),\n",
       "              learning_rate=&#x27;adaptive&#x27;, max_iter=1000)</pre></div></div></div></div></div>"
      ],
      "text/plain": [
       "MLPClassifier(alpha=0.01, batch_size=256, hidden_layer_sizes=(300,),\n",
       "              learning_rate='adaptive', max_iter=1000)"
      ]
     },
     "execution_count": 149,
     "metadata": {},
     "output_type": "execute_result"
    }
   ],
   "source": [
    "model1.fit(x_train,y_train)"
   ]
  },
  {
   "cell_type": "code",
   "execution_count": 150,
   "id": "c2fb9c6a",
   "metadata": {},
   "outputs": [],
   "source": [
    "y_pred=model1.predict(x_test)"
   ]
  },
  {
   "cell_type": "code",
   "execution_count": 151,
   "id": "65acf860",
   "metadata": {},
   "outputs": [],
   "source": [
    "accuracy=accuracy_score(y_true=y_test, y_pred=y_pred)"
   ]
  },
  {
   "cell_type": "code",
   "execution_count": 152,
   "id": "ebeb0510",
   "metadata": {},
   "outputs": [
    {
     "name": "stdout",
     "output_type": "stream",
     "text": [
      "Accuracy: 84.25%\n"
     ]
    }
   ],
   "source": [
    "print(\"Accuracy: {:.2f}%\".format(accuracy*100))"
   ]
  },
  {
   "cell_type": "code",
   "execution_count": 153,
   "id": "9ae579d0",
   "metadata": {},
   "outputs": [],
   "source": [
    "model2 = Sequential()\n",
    "model2.add(Dense(input_dim = x_train.shape[1],units = 100, activation = 'relu'))\n",
    "model2.add(Dense(128, activation='relu'))\n",
    "model2.add(Dense(64, activation='relu'))\n",
    "model2.add(Dense(32, activation='relu'))\n",
    "model2.add(Dense(7, activation='softmax'))\n",
    "model2.compile(loss='categorical_crossentropy', optimizer='adam', metrics=['accuracy'])\n"
   ]
  },
  {
   "cell_type": "code",
   "execution_count": 154,
   "id": "916df5c7",
   "metadata": {},
   "outputs": [],
   "source": [
    "encoder = preprocessing.LabelEncoder()\n",
    "encoder.fit(y_train)\n",
    "\n",
    "#train\n",
    "y_train_pom = encoder.transform(y_train)\n",
    "dummy_y = np_utils.to_categorical(y_train_pom)\n",
    "\n",
    "#test\n",
    "y_true_pom = encoder.transform(y_test)\n",
    "dummy_y_true = np_utils.to_categorical(y_true_pom)"
   ]
  },
  {
   "cell_type": "code",
   "execution_count": 155,
   "id": "2b64d5a1",
   "metadata": {},
   "outputs": [
    {
     "name": "stdout",
     "output_type": "stream",
     "text": [
      "Epoch 1/40\n",
      "37/37 [==============================] - 3s 27ms/step - loss: 1.5559 - accuracy: 0.3940 - val_loss: 1.1721 - val_accuracy: 0.6280\n",
      "Epoch 2/40\n",
      "37/37 [==============================] - 1s 17ms/step - loss: 0.9700 - accuracy: 0.6717 - val_loss: 0.8006 - val_accuracy: 0.7198\n",
      "Epoch 3/40\n",
      "37/37 [==============================] - 1s 15ms/step - loss: 0.7533 - accuracy: 0.7331 - val_loss: 0.7046 - val_accuracy: 0.7399\n",
      "Epoch 4/40\n",
      "37/37 [==============================] - 1s 19ms/step - loss: 0.6546 - accuracy: 0.7621 - val_loss: 0.6499 - val_accuracy: 0.7601\n",
      "Epoch 5/40\n",
      "37/37 [==============================] - 0s 12ms/step - loss: 0.5856 - accuracy: 0.7915 - val_loss: 0.6423 - val_accuracy: 0.7601\n",
      "Epoch 6/40\n",
      "37/37 [==============================] - 0s 11ms/step - loss: 0.5399 - accuracy: 0.8062 - val_loss: 0.5834 - val_accuracy: 0.7873\n",
      "Epoch 7/40\n",
      "37/37 [==============================] - 0s 12ms/step - loss: 0.4851 - accuracy: 0.8240 - val_loss: 0.5679 - val_accuracy: 0.7964\n",
      "Epoch 8/40\n",
      "37/37 [==============================] - 0s 10ms/step - loss: 0.4419 - accuracy: 0.8430 - val_loss: 0.5451 - val_accuracy: 0.8024\n",
      "Epoch 9/40\n",
      "37/37 [==============================] - 0s 9ms/step - loss: 0.3969 - accuracy: 0.8668 - val_loss: 0.5351 - val_accuracy: 0.8034\n",
      "Epoch 10/40\n",
      "37/37 [==============================] - 0s 11ms/step - loss: 0.3559 - accuracy: 0.8845 - val_loss: 0.5267 - val_accuracy: 0.8115\n",
      "Epoch 11/40\n",
      "37/37 [==============================] - 0s 13ms/step - loss: 0.3290 - accuracy: 0.8897 - val_loss: 0.5409 - val_accuracy: 0.8034\n",
      "Epoch 12/40\n",
      "37/37 [==============================] - 0s 9ms/step - loss: 0.3085 - accuracy: 0.8997 - val_loss: 0.5122 - val_accuracy: 0.8125\n",
      "Epoch 13/40\n",
      "37/37 [==============================] - 0s 8ms/step - loss: 0.2672 - accuracy: 0.9157 - val_loss: 0.5071 - val_accuracy: 0.8185\n",
      "Epoch 14/40\n",
      "37/37 [==============================] - 0s 8ms/step - loss: 0.2497 - accuracy: 0.9234 - val_loss: 0.5265 - val_accuracy: 0.8206\n",
      "Epoch 15/40\n",
      "37/37 [==============================] - 0s 7ms/step - loss: 0.2454 - accuracy: 0.9165 - val_loss: 0.5088 - val_accuracy: 0.8286\n",
      "Epoch 16/40\n",
      "37/37 [==============================] - 1s 15ms/step - loss: 0.2011 - accuracy: 0.9334 - val_loss: 0.5089 - val_accuracy: 0.8236\n",
      "Epoch 17/40\n",
      "37/37 [==============================] - 0s 13ms/step - loss: 0.1989 - accuracy: 0.9390 - val_loss: 0.5521 - val_accuracy: 0.8115\n",
      "Epoch 18/40\n",
      "37/37 [==============================] - 0s 7ms/step - loss: 0.1850 - accuracy: 0.9420 - val_loss: 0.5476 - val_accuracy: 0.8216\n",
      "Epoch 19/40\n",
      "37/37 [==============================] - 0s 8ms/step - loss: 0.1846 - accuracy: 0.9360 - val_loss: 0.5282 - val_accuracy: 0.8216\n",
      "Epoch 20/40\n",
      "37/37 [==============================] - 0s 7ms/step - loss: 0.1438 - accuracy: 0.9580 - val_loss: 0.5268 - val_accuracy: 0.8206\n",
      "Epoch 21/40\n",
      "37/37 [==============================] - 0s 8ms/step - loss: 0.1211 - accuracy: 0.9693 - val_loss: 0.5462 - val_accuracy: 0.8296\n",
      "Epoch 22/40\n",
      "37/37 [==============================] - 1s 14ms/step - loss: 0.1218 - accuracy: 0.9645 - val_loss: 0.5576 - val_accuracy: 0.8317\n",
      "Epoch 23/40\n",
      "37/37 [==============================] - 0s 11ms/step - loss: 0.1101 - accuracy: 0.9645 - val_loss: 0.5956 - val_accuracy: 0.8266\n",
      "Epoch 24/40\n",
      "37/37 [==============================] - 0s 7ms/step - loss: 0.0957 - accuracy: 0.9749 - val_loss: 0.5587 - val_accuracy: 0.8377\n",
      "Epoch 25/40\n",
      "37/37 [==============================] - 0s 9ms/step - loss: 0.0949 - accuracy: 0.9758 - val_loss: 0.5698 - val_accuracy: 0.8276\n",
      "Epoch 26/40\n",
      "37/37 [==============================] - 0s 9ms/step - loss: 0.0878 - accuracy: 0.9779 - val_loss: 0.5896 - val_accuracy: 0.8286\n",
      "Epoch 27/40\n",
      "37/37 [==============================] - 0s 10ms/step - loss: 0.0677 - accuracy: 0.9857 - val_loss: 0.6098 - val_accuracy: 0.8246\n",
      "Epoch 28/40\n",
      "37/37 [==============================] - 0s 10ms/step - loss: 0.0554 - accuracy: 0.9892 - val_loss: 0.5783 - val_accuracy: 0.8377\n",
      "Epoch 29/40\n",
      "37/37 [==============================] - 0s 12ms/step - loss: 0.0529 - accuracy: 0.9918 - val_loss: 0.5955 - val_accuracy: 0.8347\n",
      "Epoch 30/40\n",
      "37/37 [==============================] - 0s 7ms/step - loss: 0.0530 - accuracy: 0.9883 - val_loss: 0.6348 - val_accuracy: 0.8256\n",
      "Epoch 31/40\n",
      "37/37 [==============================] - 0s 13ms/step - loss: 0.0638 - accuracy: 0.9818 - val_loss: 0.7116 - val_accuracy: 0.8125\n",
      "Epoch 32/40\n",
      "37/37 [==============================] - 0s 11ms/step - loss: 0.0523 - accuracy: 0.9905 - val_loss: 0.6925 - val_accuracy: 0.8357\n",
      "Epoch 33/40\n",
      "37/37 [==============================] - 0s 8ms/step - loss: 0.0446 - accuracy: 0.9909 - val_loss: 0.6502 - val_accuracy: 0.8337\n",
      "Epoch 34/40\n",
      "37/37 [==============================] - 0s 7ms/step - loss: 0.0320 - accuracy: 0.9957 - val_loss: 0.6720 - val_accuracy: 0.8306\n",
      "Epoch 35/40\n",
      "37/37 [==============================] - 0s 14ms/step - loss: 0.0303 - accuracy: 0.9957 - val_loss: 0.6587 - val_accuracy: 0.8387\n",
      "Epoch 36/40\n",
      "37/37 [==============================] - 0s 8ms/step - loss: 0.0206 - accuracy: 0.9983 - val_loss: 0.6679 - val_accuracy: 0.8427\n",
      "Epoch 37/40\n",
      "37/37 [==============================] - 0s 7ms/step - loss: 0.0162 - accuracy: 0.9983 - val_loss: 0.6693 - val_accuracy: 0.8407\n",
      "Epoch 38/40\n",
      "37/37 [==============================] - 0s 13ms/step - loss: 0.0147 - accuracy: 1.0000 - val_loss: 0.6890 - val_accuracy: 0.8427\n",
      "Epoch 39/40\n",
      "37/37 [==============================] - 1s 17ms/step - loss: 0.0129 - accuracy: 1.0000 - val_loss: 0.6899 - val_accuracy: 0.8407\n",
      "Epoch 40/40\n",
      "37/37 [==============================] - 0s 13ms/step - loss: 0.0105 - accuracy: 1.0000 - val_loss: 0.7085 - val_accuracy: 0.8448\n"
     ]
    }
   ],
   "source": [
    "model2_history = model2.fit(x_train, dummy_y, batch_size = 64, epochs = 40, verbose = 1, validation_split=0.3)"
   ]
  },
  {
   "cell_type": "code",
   "execution_count": 156,
   "id": "90e4870d",
   "metadata": {},
   "outputs": [
    {
     "data": {
      "text/plain": [
       "[<matplotlib.lines.Line2D at 0x7f7ff3209e80>]"
      ]
     },
     "execution_count": 156,
     "metadata": {},
     "output_type": "execute_result"
    },
    {
     "data": {
      "image/png": "[encoded data removed]",
      "text/plain": [
       "<Figure size 432x288 with 1 Axes>"
      ]
     },
     "metadata": {
      "needs_background": "light"
     },
     "output_type": "display_data"
    }
   ],
   "source": [
    "epochs = model2_history.epoch\n",
    "loss = model2_history.history['loss']\n",
    "val_loss = model2_history.history['val_loss']\n",
    "plt.plot(epochs, loss)\n",
    "plt.plot(epochs, val_loss)"
   ]
  },
  {
   "cell_type": "code",
   "execution_count": 157,
   "id": "9d6625d5",
   "metadata": {},
   "outputs": [
    {
     "data": {
      "text/plain": [
       "[<matplotlib.lines.Line2D at 0x7f7ff31985e0>]"
      ]
     },
     "execution_count": 157,
     "metadata": {},
     "output_type": "execute_result"
    },
    {
     "data": {
      "image/png": "[encoded data removed]",
      "text/plain": [
       "<Figure size 432x288 with 1 Axes>"
      ]
     },
     "metadata": {
      "needs_background": "light"
     },
     "output_type": "display_data"
    }
   ],
   "source": [
    "acc = model2_history.history['accuracy']\n",
    "val_acc = model2_history.history['val_accuracy']\n",
    "plt.plot(epochs, acc)\n",
    "plt.plot(epochs, val_acc)"
   ]
  },
  {
   "cell_type": "code",
   "execution_count": 158,
   "id": "2b8c5707",
   "metadata": {},
   "outputs": [
    {
     "name": "stdout",
     "output_type": "stream",
     "text": [
      "23/23 [==============================] - 0s 6ms/step - loss: 0.8242 - accuracy: 0.8312\n"
     ]
    },
    {
     "data": {
      "text/plain": [
       "[0.8242481350898743, 0.8312146663665771]"
      ]
     },
     "execution_count": 158,
     "metadata": {},
     "output_type": "execute_result"
    }
   ],
   "source": [
    "model2.evaluate(x_test, dummy_y_true, batch_size=64)"
   ]
  },
  {
   "cell_type": "code",
   "execution_count": 159,
   "id": "33056846",
   "metadata": {},
   "outputs": [
    {
     "name": "stdout",
     "output_type": "stream",
     "text": [
      "45/45 [==============================] - 0s 3ms/step\n"
     ]
    }
   ],
   "source": [
    "y_pred_e = np.argmax(model2.predict(x_test), axis=1)"
   ]
  },
  {
   "cell_type": "code",
   "execution_count": 160,
   "id": "9d0defb0",
   "metadata": {},
   "outputs": [
    {
     "name": "stdout",
     "output_type": "stream",
     "text": [
      "Accuracy: 83.12%\n"
     ]
    }
   ],
   "source": [
    "accuracy = accuracy_score(y_true_pom, y_pred_e)\n",
    "print(\"Accuracy: {:.2f}%\".format(accuracy*100))"
   ]
  }
 ],
 "metadata": {
  "kernelspec": {
   "display_name": "Python 3 (ipykernel)",
   "language": "python",
   "name": "python3"
  },
  "language_info": {
   "codemirror_mode": {
    "name": "ipython",
    "version": 3
   },
   "file_extension": ".py",
   "mimetype": "text/x-python",
   "name": "python",
   "nbconvert_exporter": "python",
   "pygments_lexer": "ipython3",
   "version": "3.8.10"
  }
 },
 "nbformat": 4,
 "nbformat_minor": 5
}
